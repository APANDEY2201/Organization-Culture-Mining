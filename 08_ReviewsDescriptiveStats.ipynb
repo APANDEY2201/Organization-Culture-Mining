{
  "nbformat": 4,
  "nbformat_minor": 0,
  "metadata": {
    "colab": {
      "name": "08_ReviewsDescriptiveStats.ipynb",
      "provenance": [],
      "collapsed_sections": []
    },
    "kernelspec": {
      "name": "python3",
      "display_name": "Python 3"
    }
  },
  "cells": [
    {
      "cell_type": "code",
      "metadata": {
        "id": "jmDQMpfTQyJ0"
      },
      "source": [
        "import numpy\n",
        "import matplotlib.pyplot as plt\n",
        "import csv"
      ],
      "execution_count": null,
      "outputs": []
    },
    {
      "cell_type": "markdown",
      "metadata": {
        "id": "6TLpe3nFQ8Qz"
      },
      "source": [
        "# Input: words in reviews descriptive statistics"
      ]
    },
    {
      "cell_type": "code",
      "metadata": {
        "id": "Ihlpq8m-Q-rU"
      },
      "source": [
        "csvFileName = 'dataOCM/02_LDA/Descriptive_Statistics_Reviews/DescStats_Dataset_1_WordsInReviews.csv'\n",
        "dt1 = list(csv.reader(open(csvFileName,encoding='utf-8'),delimiter=','))\n",
        "dtFinal1 = [int(dt1[i][1]) for i in range(len(dt1))]\n",
        "print(dtFinal1)\n",
        "csvFileName = 'dataOCM/02_LDA/Descriptive_Statistics_Reviews/DescStats_Dataset_2_WordsInReviews.csv'\n",
        "dt2 = list(csv.reader(open(csvFileName,encoding='utf-8'),delimiter=','))\n",
        "dtFinal2 = [int(dt2[i][1]) for i in range(len(dt2))]\n",
        "print(dtFinal2)"
      ],
      "execution_count": null,
      "outputs": []
    },
    {
      "cell_type": "markdown",
      "metadata": {
        "id": "hvusYhx7RAql"
      },
      "source": [
        "# Initializing bins for Histogram"
      ]
    },
    {
      "cell_type": "code",
      "metadata": {
        "id": "jGba0HDyRCaE"
      },
      "source": [
        "bins = numpy.linspace(0, 850, 100)"
      ],
      "execution_count": null,
      "outputs": []
    },
    {
      "cell_type": "markdown",
      "metadata": {
        "id": "T2khtMuGRETJ"
      },
      "source": [
        "# Plotting Histogram"
      ]
    },
    {
      "cell_type": "code",
      "metadata": {
        "id": "RxHm2rBtRF9s"
      },
      "source": [
        "plt.rcParams.update({'font.size': 8})\n",
        "fig = plt.figure(figsize=(9/2.54,6/2.54)) # 10.45 - 2*0.4322 #dt1\n",
        "ax = fig.add_axes([0.17,0.18,0.82,0.81])\n",
        "ax.set_xlabel('No. of words')\n",
        "ax.set_ylabel('No. of occurences')\n",
        "ax.hist(dtFinal1, bins, label='Dataset1', color='#7ac36a')\n",
        "ax.hist(dtFinal2, bins, label='Dataset2', color='#f15a60')\n",
        "ax.legend(loc='upper right',frameon=False)\n",
        "plt.savefig('resultsOCM/Exp_0_Words_Histogram.png')\n",
        "plt.show()"
      ],
      "execution_count": null,
      "outputs": []
    }
  ]
}