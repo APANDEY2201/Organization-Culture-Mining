{
  "nbformat": 4,
  "nbformat_minor": 0,
  "metadata": {
    "colab": {
      "name": "09_LDA_SectorWise_CumulativeTopicsProportions.ipynb",
      "provenance": [],
      "collapsed_sections": []
    },
    "kernelspec": {
      "name": "python3",
      "display_name": "Python 3"
    }
  },
  "cells": [
    {
      "cell_type": "code",
      "metadata": {
        "id": "qV38DfXuSG8t"
      },
      "source": [
        "from nltk.corpus import stopwords\n",
        "import csv\n",
        "import spacy\n",
        "import os\n",
        "import pandas as pd\n",
        "import time\n",
        "import pickle\n",
        "import nltk\n",
        "import numpy as np"
      ],
      "execution_count": null,
      "outputs": []
    },
    {
      "cell_type": "markdown",
      "metadata": {
        "id": "vDZ5_0fbSXkJ"
      },
      "source": [
        "# Dataset 1/2"
      ]
    },
    {
      "cell_type": "code",
      "metadata": {
        "id": "8FI1wmcnSbDB"
      },
      "source": [
        "# Choose the dataset (1 for culture dataset, 2 for diversity dataset)\n",
        "dataset = 1\n",
        "\n",
        "# Dataset switch\n",
        "if dataset == 1:\n",
        "    LDAModelTimeStamp = '07092020_113759' # Dataset1\n",
        "    noOfTopicsFolder = 'noOfTopics_18'  # Dataset1\n",
        "    datasetName = 'Dataset1'\n",
        "    topicsToEliminate = []\n",
        "elif dataset == 2:\n",
        "    LDAModelTimeStamp = '08092020_083631'  # Dataset2\n",
        "    noOfTopicsFolder = 'noOfTopics_23' # Dataset2\n",
        "    datasetName = 'Dataset2'\n",
        "    topicsToEliminate = ['topic12','topic20','topic22']"
      ],
      "execution_count": null,
      "outputs": []
    },
    {
      "cell_type": "markdown",
      "metadata": {
        "id": "m0HDr4V2SdTC"
      },
      "source": [
        "# LDA Model target location"
      ]
    },
    {
      "cell_type": "code",
      "metadata": {
        "id": "WJXm4LjpSfSn"
      },
      "source": [
        "dir = 'dataOCM/02_LDA/LDA_Runs/03_Selected/' + LDAModelTimeStamp\n",
        "topicsDocumentsDistribution = pickle.load(open(dir + '/' + noOfTopicsFolder + '/' +  'LDA_04_Fitting_fittedData_' + LDAModelTimeStamp + '.data', 'rb'))"
      ],
      "execution_count": null,
      "outputs": []
    },
    {
      "cell_type": "markdown",
      "metadata": {
        "id": "JGvZ5Q02Si-h"
      },
      "source": [
        "# Making dataframe from pickle"
      ]
    },
    {
      "cell_type": "code",
      "metadata": {
        "id": "gkYnSNwpSlKD"
      },
      "source": [
        "tDocDist_df = pd.DataFrame(topicsDocumentsDistribution)\n",
        "new_columns = tDocDist_df.loc[0]\n",
        "tDocDist_df.columns = new_columns"
      ],
      "execution_count": null,
      "outputs": []
    },
    {
      "cell_type": "markdown",
      "metadata": {
        "id": "3eZqBX36Smzp"
      },
      "source": [
        "# Counting no. of topics"
      ]
    },
    {
      "cell_type": "code",
      "metadata": {
        "id": "9mCSk34xSpF3"
      },
      "source": [
        "noOfTopics = 0\n",
        "for name in new_columns:\n",
        "    if 'topic' in name:\n",
        "        noOfTopics +=1"
      ],
      "execution_count": null,
      "outputs": []
    },
    {
      "cell_type": "markdown",
      "metadata": {
        "id": "BR_vLahoSrZo"
      },
      "source": [
        "# Size of dataframe"
      ]
    },
    {
      "cell_type": "code",
      "metadata": {
        "id": "WaqbrPAqSq4k"
      },
      "source": [
        "tDocDist_df = tDocDist_df[1:tDocDist_df.size]\n",
        "seriesLen = tDocDist_df['RvComment'].size\n",
        "print('size of dataframe is :', seriesLen)"
      ],
      "execution_count": null,
      "outputs": []
    },
    {
      "cell_type": "markdown",
      "metadata": {
        "id": "kR_uHo-MSvKD"
      },
      "source": [
        "# Grouping organization sectors"
      ]
    },
    {
      "cell_type": "code",
      "metadata": {
        "id": "5YGNeBj8SyFy"
      },
      "source": [
        "conditions = [(tDocDist_df[\"OrgSector\"] == 'Immobilien'),\n",
        "              (tDocDist_df[\"OrgSector\"] == 'Elektro/Elektronik'),\n",
        "              (tDocDist_df[\"OrgSector\"] == 'Sonstige Branchen'),\n",
        "              (tDocDist_df[\"OrgSector\"] == 'Maschinenbau'),\n",
        "              (tDocDist_df[\"OrgSector\"] == 'Handel'),\n",
        "              (tDocDist_df[\"OrgSector\"] == 'Internet'),\n",
        "              (tDocDist_df[\"OrgSector\"] == 'Medizin/Pharma'),\n",
        "              (tDocDist_df[\"OrgSector\"] == 'IT'),\n",
        "              (tDocDist_df[\"OrgSector\"] == 'Automobil'),\n",
        "              (tDocDist_df[\"OrgSector\"] == 'Industrie'),\n",
        "              (tDocDist_df[\"OrgSector\"] == 'Dienstleistung'),\n",
        "              (tDocDist_df[\"OrgSector\"] == 'Energie'),\n",
        "              (tDocDist_df[\"OrgSector\"] == 'Marketing/Werbung/PR'),\n",
        "              (tDocDist_df[\"OrgSector\"] == 'Nahrungsmittel/Landwirtschaft'),\n",
        "              (tDocDist_df[\"OrgSector\"] == 'Chemie'),\n",
        "              (tDocDist_df[\"OrgSector\"] == 'Finanz'),\n",
        "              (tDocDist_df[\"OrgSector\"] == 'Banken'),\n",
        "              (tDocDist_df[\"OrgSector\"] == 'Transport/Verkehr/Logistik'),\n",
        "              (tDocDist_df[\"OrgSector\"] == 'Telekommunikation'),\n",
        "              (tDocDist_df[\"OrgSector\"] == 'Bau/Architektur'),\n",
        "              (tDocDist_df[\"OrgSector\"] == 'Versicherung'),\n",
        "              (tDocDist_df[\"OrgSector\"] == 'Kunst/Kultur'),\n",
        "              (tDocDist_df[\"OrgSector\"] == 'Textil'),\n",
        "              (tDocDist_df[\"OrgSector\"] == ' Immobilien'),\n",
        "              (tDocDist_df[\"OrgSector\"] == 'Medien'),\n",
        "              (tDocDist_df[\"OrgSector\"] == 'Personalwesen & -beschaffung'),\n",
        "              (tDocDist_df[\"OrgSector\"] == ' Industrie'),\n",
        "              (tDocDist_df[\"OrgSector\"] == 'Sport/Beauty'),\n",
        "              (tDocDist_df[\"OrgSector\"] == 'Druck/Verpackung'),\n",
        "              (tDocDist_df[\"OrgSector\"] == 'Medizintechnik'),\n",
        "              (tDocDist_df[\"OrgSector\"] == 'Forschung/Entwicklung'),\n",
        "              (tDocDist_df[\"OrgSector\"] == 'Beratung/Consulting')\n",
        "              ]\n",
        "\n",
        "choices_NewOrgSector = ['Finance_Insurance_Real_Estate', 'Manufacturing', 'Others', 'Manufacturing', 'Retail_Trade',\n",
        "                        'Services','Manufacturing','Manufacturing','Manufacturing','Manufacturing','Services',\n",
        "                        'Transportation_and_Public_Utilities','Services','Agriculture_Forestry_Fishing','Manufacturing',\n",
        "                        'Finance_Insurance_Real_Estate','Finance_Insurance_Real_Estate','Transportation_and_Public_Utilities',\n",
        "                        'Transportation_and_Public_Utilities','Construction','Finance_Insurance_Real_Estate','Services',\n",
        "                        'Manufacturing','Finance_Insurance_Real_Estate','Services','Services','Manufacturing',\n",
        "                        'Services','Manufacturing','Manufacturing','Services','Services']\n",
        "tDocDist_df[\"NewOrgSector\"] = np.select(conditions, choices_NewOrgSector, default='NaN')\n",
        "listOfSectors = list(set(choices_NewOrgSector))"
      ],
      "execution_count": null,
      "outputs": []
    },
    {
      "cell_type": "markdown",
      "metadata": {
        "id": "eygn5X3kS1OW"
      },
      "source": [
        "# Looping through list of sectors and exporting Cumulative Topics Proportions to csv"
      ]
    },
    {
      "cell_type": "code",
      "metadata": {
        "id": "ainXKqG8S3oD"
      },
      "source": [
        "for sec in listOfSectors:\n",
        "    df_sec = tDocDist_df[tDocDist_df['NewOrgSector']==sec]\n",
        "\n",
        "    csvFileNameOut = 'dataOCM/02_LDA/RQ3_' + datasetName + '_TopicProps_' + sec +'.csv'\n",
        "    csvFileOut = open(csvFileNameOut, \"w\", newline='', encoding='utf-8')\n",
        "    csv_out = csv.writer(csvFileOut, delimiter='|')\n",
        "\n",
        "    topicsProportions = []\n",
        "    for t in range(noOfTopics):\n",
        "        topicsProportions_temp = []\n",
        "        topicsProportions_temp.append('topic' + str(t))\n",
        "        topicsProportions_temp.append(sum(df_sec['topic' + str(t)]))\n",
        "        topicsProportions_temp.append(0)\n",
        "        topicsProportions.append(topicsProportions_temp)\n",
        "\n",
        "    sumOfAllinDenom = sum(topicsProportions[c][1] for c in range(len(topicsProportions)) if topicsProportions[c][0] not in topicsToEliminate)\n",
        "\n",
        "    for t in range(noOfTopics):\n",
        "        if (topicsProportions[t][0] not in topicsToEliminate):\n",
        "            topicsProportions[t][2] = topicsProportions[t][1] / sumOfAllinDenom\n",
        "            csv_out.writerow(topicsProportions[t])\n",
        "        else:\n",
        "            topicsProportions[t][2] = 'topic eliminated'\n",
        "            csv_out.writerow(topicsProportions[t])"
      ],
      "execution_count": null,
      "outputs": []
    }
  ]
}